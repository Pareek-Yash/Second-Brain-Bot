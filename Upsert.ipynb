{
 "cells": [
  {
   "cell_type": "code",
   "execution_count": null,
   "metadata": {},
   "outputs": [],
   "source": [
    "import pandas as pd\n",
    "import os\n",
    "directory_path = 'data\\QnAs'\n",
    "\n",
    "file_list = [os.path.join(directory_path, filename) for filename in os.listdir(directory_path) if filename.endswith('.txt')]\n",
    "print(len(file_list))"
   ]
  },
  {
   "cell_type": "code",
   "execution_count": null,
   "metadata": {},
   "outputs": [],
   "source": [
    "def file_to_df(filenames):\n",
    "\n",
    "    # Initialize empty lists for questions and answers\n",
    "    questions = []\n",
    "    answers = []\n",
    "\n",
    "    # Loop through each file and extract questions and answers\n",
    "    for filename in filenames:\n",
    "        with open(filename, 'r', encoding='utf-8') as f:\n",
    "            data = [line.strip() for line in f]\n",
    "\n",
    "        # Loop through each line and append to respective lists\n",
    "        for i, line in enumerate(data):\n",
    "            if line.startswith('Q:'):\n",
    "                questions.append(line[2:])\n",
    "            elif line.startswith('A:'):\n",
    "                # Keep appending lines until the next question is encountered\n",
    "                answer = line[2:]\n",
    "                j = i + 1\n",
    "                while j < len(data) and not data[j].startswith('Q:'):\n",
    "                    answer += ' ' + data[j]\n",
    "                    j += 1\n",
    "                answers.append(answer)\n",
    "\n",
    "    # Create pandas dataframe\n",
    "    print(len(questions))\n",
    "    print(len(answers))\n",
    "    df = pd.DataFrame({'question': questions, 'answer': answers})\n",
    "    # Add 'id' column as the first column\n",
    "    # df.insert(0, 'id', range(1, len(df) + 1))\n",
    "\n",
    "    # Print dataframe\n",
    "    print(f\"Objects in DataFrame: {len(df.question)}\")\n",
    "    return df\n"
   ]
  },
  {
   "cell_type": "code",
   "execution_count": null,
   "metadata": {},
   "outputs": [],
   "source": [
    "df.to_csv('data.csv')"
   ]
  },
  {
   "cell_type": "code",
   "execution_count": null,
   "metadata": {},
   "outputs": [],
   "source": [
    "file_list[40]"
   ]
  },
  {
   "cell_type": "code",
   "execution_count": null,
   "metadata": {},
   "outputs": [],
   "source": [
    "df = file_to_df(file_list)"
   ]
  },
  {
   "cell_type": "code",
   "execution_count": null,
   "metadata": {},
   "outputs": [],
   "source": [
    "import weaviate\n",
    "import cohere\n",
    "import json\n",
    "auth_config = weaviate.auth.AuthApiKey(api_key=\"<<Your API Key>>\")\n",
    "client = weaviate.Client(\n",
    "    url = \"Replace with your endpoint\", \n",
    "    auth_client_secret=auth_config,\n",
    "    additional_headers = {\n",
    "        \"X-Open-Api-Key\" : \"<<Your API Key>>\" # Replace with your API key\n",
    "    }  \n",
    ")"
   ]
  },
  {
   "cell_type": "code",
   "execution_count": null,
   "metadata": {},
   "outputs": [],
   "source": [
    "\n",
    "client.schema.get()\n",
    "json_data = df.to_json(orient='records')\n",
    "class_obj = {\n",
    "    \"class\": \"Question\",\n",
    "    \"vectorizer\": \"text2vec-huggingface\"  # Or \"text2vec-cohere\" or \"text2vec-huggingface\"\n",
    "}\n",
    "\n",
    "client.schema.create_class(class_obj)\n",
    "data = json.loads(json_data)\n",
    "with client.batch as batch:\n",
    "    batch.batch_size=100\n",
    "    for i, d in enumerate(data):\n",
    "        properties = {\n",
    "            \"answer\": d[\"answer\"],\n",
    "            \"question\": d[\"question\"]\n",
    "        }\n",
    "\n",
    "        client.batch.add_data_object(properties, \"Question\")"
   ]
  },
  {
   "cell_type": "code",
   "execution_count": null,
   "metadata": {},
   "outputs": [],
   "source": [
    "client.schema.get()"
   ]
  }
 ],
 "metadata": {
  "kernelspec": {
   "display_name": "intentrec",
   "language": "python",
   "name": "python3"
  },
  "language_info": {
   "codemirror_mode": {
    "name": "ipython",
    "version": 3
   },
   "file_extension": ".py",
   "mimetype": "text/x-python",
   "name": "python",
   "nbconvert_exporter": "python",
   "pygments_lexer": "ipython3",
   "version": "3.9.6"
  },
  "orig_nbformat": 4
 },
 "nbformat": 4,
 "nbformat_minor": 2
}
